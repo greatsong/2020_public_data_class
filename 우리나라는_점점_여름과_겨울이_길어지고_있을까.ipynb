{
  "nbformat": 4,
  "nbformat_minor": 0,
  "metadata": {
    "kernelspec": {
      "display_name": "Python 3",
      "language": "python",
      "name": "python3"
    },
    "language_info": {
      "codemirror_mode": {
        "name": "ipython",
        "version": 3
      },
      "file_extension": ".py",
      "mimetype": "text/x-python",
      "name": "python",
      "nbconvert_exporter": "python",
      "pygments_lexer": "ipython3",
      "version": "3.7.6"
    },
    "colab": {
      "name": "우리나라는 점점 여름과 겨울이 길어지고 있을까.ipynb",
      "provenance": [],
      "collapsed_sections": [
        "2148xdnyo7eC"
      ],
      "toc_visible": true,
      "include_colab_link": true
    }
  },
  "cells": [
    {
      "cell_type": "markdown",
      "metadata": {
        "id": "view-in-github",
        "colab_type": "text"
      },
      "source": [
        "<a href=\"https://colab.research.google.com/github/greatsong/2020_public_data_class/blob/master/%EC%9A%B0%EB%A6%AC%EB%82%98%EB%9D%BC%EB%8A%94_%EC%A0%90%EC%A0%90_%EC%97%AC%EB%A6%84%EA%B3%BC_%EA%B2%A8%EC%9A%B8%EC%9D%B4_%EA%B8%B8%EC%96%B4%EC%A7%80%EA%B3%A0_%EC%9E%88%EC%9D%84%EA%B9%8C.ipynb\" target=\"_parent\"><img src=\"https://colab.research.google.com/assets/colab-badge.svg\" alt=\"Open In Colab\"/></a>"
      ]
    },
    {
      "cell_type": "markdown",
      "metadata": {
        "id": "kXsa48zEo7cz",
        "colab_type": "text"
      },
      "source": [
        "### 시작하기) 데이터 프로젝트에서 가장 중요한 것은 호기심을 유발하는 '데이터'입니다!"
      ]
    },
    {
      "cell_type": "markdown",
      "metadata": {
        "id": "5sEuHWDOo7c0",
        "colab_type": "text"
      },
      "source": [
        "### [ 데이터 분석을 이끄는 질문 ]  \n",
        "### - '우리나라는 점점 여름과 겨울이 길어지고 있을까?'   -> 데이터로 검증해보기"
      ]
    },
    {
      "cell_type": "markdown",
      "metadata": {
        "id": "dCQU0iwSo7c0",
        "colab_type": "text"
      },
      "source": [
        "### [ 분석 방법을 중심으로 본 데이터 프로젝트 7단계 (출처 : 석리송의 생각) ]  \n",
        "- 1단계 : 데이터 탐색하기 with Web (data.go.kr 등 활용)  \n",
        "- 2단계 : 데이터 만져보기 with 엑셀  \n",
        "- 3단계 : 논리적으로 분석하기 with 파이썬  \n",
        "- 4단계 : 정형 데이터로 복잡한 분석하기 with pandas  \n",
        "- 5단계 : 정형 데이터로 머신러닝하기 with sckitlearn  \n",
        "- 6단계 : 다차원 데이터 이해하기 with numpy  \n",
        "- 7단계 : 비정형 데이터로 딥러닝하기 with tensorflow(pytorch)"
      ]
    },
    {
      "cell_type": "markdown",
      "metadata": {
        "id": "iM0a-jYwo7c1",
        "colab_type": "text"
      },
      "source": [
        "### 1단계 : 데이터 탐색하기 with Web"
      ]
    },
    {
      "cell_type": "markdown",
      "metadata": {
        "id": "uw77DgnQo7c2",
        "colab_type": "text"
      },
      "source": [
        "- 폭염일수 그래프로 확인해보기  \n",
        "https://data.kma.go.kr/climate/heatWave/selectHeatWaveDmap.do?pgmNo=106  "
      ]
    },
    {
      "cell_type": "markdown",
      "metadata": {
        "id": "m8u9dca1o7c2",
        "colab_type": "text"
      },
      "source": [
        "- 기온 데이터 다운로드(csv)  \n",
        "https://data.kma.go.kr/stcs/grnd/grndTaList.do?pgmNo=70  "
      ]
    },
    {
      "cell_type": "markdown",
      "metadata": {
        "id": "44Cljykro7c2",
        "colab_type": "text"
      },
      "source": [
        "### 2단계 : 데이터 만져보기 with 엑셀 (feat.전처리)"
      ]
    },
    {
      "cell_type": "code",
      "metadata": {
        "id": "cdI4g_ZUo7c3",
        "colab_type": "code",
        "colab": {}
      },
      "source": [
        "# 실제 데이터를 살펴보며 질문 생각하고, 분석에 필요없는 부분 다듬기"
      ],
      "execution_count": null,
      "outputs": []
    },
    {
      "cell_type": "code",
      "metadata": {
        "id": "uyUUF1jyp2qQ",
        "colab_type": "code",
        "colab": {}
      },
      "source": [
        "# 파일 업로드하는 방법!\n",
        "from google.colab import files\n",
        "uploaded = files.upload()"
      ],
      "execution_count": null,
      "outputs": []
    },
    {
      "cell_type": "code",
      "metadata": {
        "id": "3zynSyCLp5Ec",
        "colab_type": "code",
        "colab": {}
      },
      "source": [
        "# 깃허브(Github)의 데이터(+코드) 가져오기\n",
        "!git clone https://github.com/greatsong/2020_public_data_analysis"
      ],
      "execution_count": null,
      "outputs": []
    },
    {
      "cell_type": "code",
      "metadata": {
        "id": "DXsjgWMwqDWm",
        "colab_type": "code",
        "colab": {}
      },
      "source": [
        "cd 2020_public_data_analysis/"
      ],
      "execution_count": null,
      "outputs": []
    },
    {
      "cell_type": "code",
      "metadata": {
        "id": "6Mze4B9aqFfC",
        "colab_type": "code",
        "colab": {}
      },
      "source": [
        "ls"
      ],
      "execution_count": null,
      "outputs": []
    },
    {
      "cell_type": "markdown",
      "metadata": {
        "id": "ofdkjcpmo7c9",
        "colab_type": "text"
      },
      "source": [
        "### 3단계 : 논리적으로 분석하기 with 파이썬"
      ]
    },
    {
      "cell_type": "code",
      "metadata": {
        "id": "9vQYaLgXo7c_",
        "colab_type": "code",
        "colab": {}
      },
      "source": [
        " # 파일 입력 + for 반복문 + print 출력"
      ],
      "execution_count": null,
      "outputs": []
    },
    {
      "cell_type": "code",
      "metadata": {
        "id": "KnCa9peNsEgj",
        "colab_type": "code",
        "colab": {}
      },
      "source": [
        "import csv # csv 데이터를 불러오기 위한 라이브러리 import\n",
        "data = csv.reader(open('ta_20200901073712.csv', encoding = 'cp949')) # 필요없는 옵션 삭제\n",
        "\n",
        "for row in data : # csv 데이터에서 한 행 꺼내서 반복\n",
        "    print(row) # 행 출력\n",
        "    break # 일단 한 줄만 봅시다!"
      ],
      "execution_count": null,
      "outputs": []
    },
    {
      "cell_type": "code",
      "metadata": {
        "id": "W-GTy7u1o7dE",
        "colab_type": "code",
        "colab": {}
      },
      "source": [
        "import csv # csv 데이터를 불러오기 위한 라이브러리 import\n",
        "data = csv.reader(open('ta_20200901073712.csv', encoding = 'cp949')) # 필요없는 옵션 삭제\n",
        "next(data) # 헤더(header) skip!\n",
        "for row in data : # csv 데이터에서 한 행 꺼내서 반복\n",
        "    print(row) # 행 출력\n",
        "    break # 일단 한 줄만 봅시다!"
      ],
      "execution_count": null,
      "outputs": []
    },
    {
      "cell_type": "markdown",
      "metadata": {
        "id": "yKnZnq7io7dM",
        "colab_type": "text"
      },
      "source": [
        "- 리스트구나!  \n",
        "- 기온이 3가지로 나뉘어있구나?(평균, 최저, 최고)  \n",
        "- 숫자인 것 같지만 사실은 문자열이구나?!  \n",
        "- 날짜는 '-'로 구분되어 있구나?!"
      ]
    },
    {
      "cell_type": "code",
      "metadata": {
        "id": "87-nKbUWo7dN",
        "colab_type": "code",
        "colab": {}
      },
      "source": [
        "# tip : split 메서드 사용하기"
      ],
      "execution_count": 16,
      "outputs": []
    },
    {
      "cell_type": "code",
      "metadata": {
        "id": "ntryFdtyo7dQ",
        "colab_type": "code",
        "colab": {}
      },
      "source": [
        "a = '1907-10-01'\n",
        "print(a.split('-'))"
      ],
      "execution_count": null,
      "outputs": []
    },
    {
      "cell_type": "markdown",
      "metadata": {
        "id": "tpCPl4_-o7dU",
        "colab_type": "text"
      },
      "source": [
        "#### Q1. 1980 ~ 1999년, 2000 ~ 2019년 중 30도가 넘는 날은 어떤 기간에 더 많았을까요?"
      ]
    },
    {
      "cell_type": "markdown",
      "metadata": {
        "id": "CMJ5ASZko7dU",
        "colab_type": "text"
      },
      "source": [
        "[문제해결방법]  \n",
        "- 기온 데이터 입력\n",
        "- 두 기간의 30도가 넘는 날을 저장할 변수 2개 만들기  \n",
        "- 전체 데이터를 반복하며 1980 ~ 1999년 중 30도가 넘는 날을 카운트  \n",
        "- 전체 데이터를 반복하며 2000 ~ 2019년 중 30도가 넘는 날을 카운트  \n",
        "- 결과 출력하기"
      ]
    },
    {
      "cell_type": "code",
      "metadata": {
        "id": "s7QoL41to7dV",
        "colab_type": "code",
        "colab": {}
      },
      "source": [
        "import csv\n",
        "data = csv.reader(open('ta_20200901073712.csv', encoding = 'cp949'))\n",
        "next(data)\n",
        "summer20 = 0\n",
        "summer21 = 0\n",
        "\n",
        "for row in data : \n",
        "    date = row[0].split('-')\n",
        "    year = int(date[0])\n",
        "    if row[-1] == '' : # 6.25 전쟁 등 비어있는 기간 일부가 있어서 영향 주지 않는 값으로 변경\n",
        "        row[-1] = 0\n",
        "    if 1980 <= year < 2000 and float(row[-1]) > 30 :\n",
        "        summer20 += 1\n",
        "    elif 2000 <= year < 2020 and float(row[-1]) > 30 :\n",
        "        summer21 += 1\n",
        "        \n",
        "print(summer20, summer21)"
      ],
      "execution_count": null,
      "outputs": []
    },
    {
      "cell_type": "markdown",
      "metadata": {
        "id": "DMOumjQ9o7dY",
        "colab_type": "text"
      },
      "source": [
        "#### Q2. 1960, 1980, 2000년대로 20년씩 구간을 분석한다면 어떻게 될까요?"
      ]
    },
    {
      "cell_type": "markdown",
      "metadata": {
        "id": "pje8NxH3o7dY",
        "colab_type": "text"
      },
      "source": [
        "[문제해결방법 구상하기]  \n",
        "* 저는 이번엔 리스트와 딕셔너리를 써보았습니다 :)"
      ]
    },
    {
      "cell_type": "code",
      "metadata": {
        "id": "zLWrz7YDo7dZ",
        "colab_type": "code",
        "colab": {}
      },
      "source": [
        "import csv\n",
        "data = csv.reader(open('ta_20200901073712.csv', encoding = 'cp949'))\n",
        "next(data)\n",
        "gap = [1960,1980,2000]\n",
        "result = {1960:0, 1980:0, 2000:0}\n",
        "\n",
        "for row in data : \n",
        "    date = row[0].split('-')\n",
        "    year = int(date[0])\n",
        "    if row[-1] == '' :\n",
        "        row[-1] = 0\n",
        "    for i in gap : \n",
        "        if i <= year < i + 20 and float(row[-1]) > 30 :\n",
        "            result[i] += 1\n",
        "            \n",
        "print(result)"
      ],
      "execution_count": null,
      "outputs": []
    },
    {
      "cell_type": "markdown",
      "metadata": {
        "id": "NmoxlhtYo7dd",
        "colab_type": "text"
      },
      "source": [
        "- 60년대, 80년대는 큰 차이가 없는데 2000년대에 큰 차이가 생겼네요?!"
      ]
    },
    {
      "cell_type": "markdown",
      "metadata": {
        "id": "4JzsoXoro7de",
        "colab_type": "text"
      },
      "source": [
        "#### Q3. 1960~2010년대로 10년씩 구간을 분석한다면 어떻게 될까요?"
      ]
    },
    {
      "cell_type": "code",
      "metadata": {
        "id": "6hbC4KeGo7de",
        "colab_type": "code",
        "colab": {}
      },
      "source": [
        "import csv\n",
        "data = csv.reader(open('ta_20200901073712.csv', encoding = 'cp949'))\n",
        "next(data)\n",
        "gap = [1960,1970,1980,1990,2000,2010]\n",
        "result = {1960:0, 1970:0, 1980:0, 1990:0, 2000:0, 2010:0}\n",
        "\n",
        "for row in data : \n",
        "    date = row[0].split('-')\n",
        "    year = int(date[0])\n",
        "    if row[-1] == '' :\n",
        "        row[-1] = 0\n",
        "    for i in gap : \n",
        "        if i <= year < i + 10 and float(row[-1]) > 30 :\n",
        "            result[i] += 1\n",
        "            \n",
        "print(result)"
      ],
      "execution_count": null,
      "outputs": []
    },
    {
      "cell_type": "markdown",
      "metadata": {
        "id": "leF9Ctaso7dh",
        "colab_type": "text"
      },
      "source": [
        "#### Q4. 1980년대부터 1년 단위로 분석해보면 어떨까요?"
      ]
    },
    {
      "cell_type": "code",
      "metadata": {
        "id": "t8vAoxzmo7di",
        "colab_type": "code",
        "colab": {}
      },
      "source": [
        "import csv\n",
        "data = csv.reader(open('ta_20200901073712.csv', encoding = 'cp949'))\n",
        "next(data)\n",
        "result = {}\n",
        "for i in range(1980,2020) : \n",
        "    result[i] = 0 \n",
        "\n",
        "for row in data : \n",
        "    date = row[0].split('-')\n",
        "    year = int(date[0])\n",
        "    if row[-1] == '' :\n",
        "        row[-1] = 0\n",
        "    if 1980 <= year < 2020 and float(row[-1]) > 30 :\n",
        "        result[year] += 1\n",
        "print(result)"
      ],
      "execution_count": null,
      "outputs": []
    },
    {
      "cell_type": "markdown",
      "metadata": {
        "id": "5rifts37o7dl",
        "colab_type": "text"
      },
      "source": [
        "- 이걸 꺾은선 그래프로 그려보겠습니다!"
      ]
    },
    {
      "cell_type": "code",
      "metadata": {
        "id": "fVxl1t3Bo7dm",
        "colab_type": "code",
        "colab": {}
      },
      "source": [
        "import matplotlib.pyplot as plt\n",
        "plt.plot(list(result.values()))\n",
        "plt.show()"
      ],
      "execution_count": null,
      "outputs": []
    },
    {
      "cell_type": "markdown",
      "metadata": {
        "id": "ZCBQnEaxo7dp",
        "colab_type": "text"
      },
      "source": [
        "- 이번엔 막대 그래프로 그려보겠습니다!"
      ]
    },
    {
      "cell_type": "code",
      "metadata": {
        "id": "0ZtDPNZ7o7dp",
        "colab_type": "code",
        "colab": {}
      },
      "source": [
        "import matplotlib.pyplot as plt\n",
        "plt.bar(result.keys(), result.values()) # 딕셔너리의 키와 값을 따로 이렇게 묶을 수도 있습니다.\n",
        "plt.show()"
      ],
      "execution_count": null,
      "outputs": []
    },
    {
      "cell_type": "markdown",
      "metadata": {
        "id": "npefxVvlo7ds",
        "colab_type": "text"
      },
      "source": [
        "#### Q5. 1960년대부터 1년 단위로 분석해보면 어떨까요?"
      ]
    },
    {
      "cell_type": "code",
      "metadata": {
        "id": "we888B6Bo7du",
        "colab_type": "code",
        "colab": {}
      },
      "source": [
        "import csv\n",
        "data = csv.reader(open('ta_20200901073712.csv', encoding = 'cp949'))\n",
        "next(data)\n",
        "result = {}\n",
        "for i in range(1960,2020) : \n",
        "    result[i] = 0 \n",
        "\n",
        "for row in data : \n",
        "    date = row[0].split('-')\n",
        "    year = int(date[0])\n",
        "    if row[-1] == '' :\n",
        "        row[-1] = 0\n",
        "    if 1960 <= year < 2020 and float(row[-1]) > 30 :\n",
        "        result[year] += 1\n",
        "import matplotlib.pyplot as plt\n",
        "plt.bar(result.keys(), result.values())\n",
        "plt.show()"
      ],
      "execution_count": null,
      "outputs": []
    },
    {
      "cell_type": "markdown",
      "metadata": {
        "id": "fUxtrqQAo7dx",
        "colab_type": "text"
      },
      "source": [
        "#### Q6. 1960년대부터 1년 단위로 33도 이상인 날(폭염일수)을 분석해보면 어떨까요?"
      ]
    },
    {
      "cell_type": "code",
      "metadata": {
        "id": "vcQRRxILo7dx",
        "colab_type": "code",
        "colab": {}
      },
      "source": [
        "import csv\n",
        "data = csv.reader(open('ta_20200901073712.csv', encoding = 'cp949'))\n",
        "next(data)\n",
        "result = {}\n",
        "for i in range(1960,2020) : \n",
        "    result[i] = 0 \n",
        "\n",
        "for row in data : \n",
        "    date = row[0].split('-')\n",
        "    year = int(date[0])\n",
        "    if row[-1] == '' :\n",
        "        row[-1] = 0\n",
        "    if 1960 <= year < 2020 and float(row[-1]) > 33 :\n",
        "        result[year] += 1\n",
        "        \n",
        "import matplotlib.pyplot as plt\n",
        "plt.bar(result.keys(), result.values())\n",
        "plt.show()"
      ],
      "execution_count": null,
      "outputs": []
    },
    {
      "cell_type": "markdown",
      "metadata": {
        "id": "8byuOR0Uo7d0",
        "colab_type": "text"
      },
      "source": [
        "- 이런 결과를 유의미하게 분석하려면 통계적 지식이 필요할 것 같습니다."
      ]
    },
    {
      "cell_type": "markdown",
      "metadata": {
        "id": "adL4feXvo7d0",
        "colab_type": "text"
      },
      "source": [
        "#### Q7. 15도에서 25도 사이인 날의 비율은 어떻게 변했을까요?"
      ]
    },
    {
      "cell_type": "code",
      "metadata": {
        "id": "gFWO7dTmo7d1",
        "colab_type": "code",
        "colab": {}
      },
      "source": [
        "import csv\n",
        "data = csv.reader(open('ta_20200901073712.csv', encoding = 'cp949'))\n",
        "next(data)\n",
        "result = {}\n",
        "for i in range(1960,2020) : \n",
        "    result[i] = 0 \n",
        "\n",
        "for row in data : \n",
        "    date = row[0].split('-')\n",
        "    year = int(date[0])\n",
        "    if row[-1] == '' :\n",
        "        row[-1] = 0\n",
        "    if 1960 <= year < 2020 and 15 < float(row[-1]) < 25 :\n",
        "        result[year] += 1\n",
        "        \n",
        "import matplotlib.pyplot as plt\n",
        "plt.bar(result.keys(), result.values())\n",
        "plt.show()"
      ],
      "execution_count": null,
      "outputs": []
    },
    {
      "cell_type": "markdown",
      "metadata": {
        "id": "H8jAGGLbo7d3",
        "colab_type": "text"
      },
      "source": [
        "#### Q8. 그렇다면 추운 날은 늘어나고 있을까요?"
      ]
    },
    {
      "cell_type": "code",
      "metadata": {
        "id": "ARG6BqPKo7d4",
        "colab_type": "code",
        "colab": {}
      },
      "source": [
        "import csv\n",
        "data = csv.reader(open('ta_20200901073712.csv', encoding = 'cp949'))\n",
        "next(data)\n",
        "result = {}\n",
        "for i in range(1960,2020) : \n",
        "    result[i] = 0 \n",
        "\n",
        "for row in data : \n",
        "    date = row[0].split('-')\n",
        "    year = int(date[0])\n",
        "    if row[-2] == '' :\n",
        "        row[-2] = 0\n",
        "    if 1960 <= year < 2020 and  float(row[-2]) < -5 :\n",
        "        result[year] += 1\n",
        "        \n",
        "import matplotlib.pyplot as plt\n",
        "plt.bar(result.keys(), result.values())\n",
        "plt.show()"
      ],
      "execution_count": null,
      "outputs": []
    },
    {
      "cell_type": "markdown",
      "metadata": {
        "id": "2148xdnyo7eC",
        "colab_type": "text"
      },
      "source": [
        "### 4단계 : 정형 데이터로 복잡한 분석하기 with pandas   \n",
        "- 파이썬을 건너뛰고 pandas를 먼저 해보시면 아마 '되긴 하는데, 이게 뭐하는거지?' 싶으실 겁니다.  \n",
        "- 그래서 파이썬으로 표 형태의 정형 데이터를 먼저 이리저리 논리적으로 분석해본 후에 판다스를 사용하는 것을 추천합니다.  \n",
        "- 엑셀이 있는데 왜 굳이 파이썬을 쓰냐면, 교육적이기 때문입니다. \n",
        "- 그러면 파이썬이 있는데 왜 굳이 판다스를 쓰냐면, 효율적이기 때문입니다.  \n",
        "- 데이터가 1기가가 넘어가면 파이썬으로는 분석이 어렵습니다.  \n",
        "- 또, 위에서 분석을 직접해보시면 아시겠지만 뭔가 번거롭습니다. \n",
        "- 이럴 때 판다스를 시작하는 것이 좋습니다.  \n",
        "- 하지만, 판다스는 명령이 너무 많습니다. 많아도 너무 많아서 저는 그냥 구글링해서 찾습니다.  \n",
        "- 따라서, 오늘은 그냥 맛을 본다는 느낌으로 함께 해주시기 바랍니다."
      ]
    },
    {
      "cell_type": "markdown",
      "metadata": {
        "id": "a_pLWK9lo7eD",
        "colab_type": "text"
      },
      "source": [
        "### [판다스 시작하기]  "
      ]
    },
    {
      "cell_type": "markdown",
      "metadata": {
        "id": "OKqj8wFjo7eD",
        "colab_type": "text"
      },
      "source": [
        "step 1) csv 데이터 불러오기(헤더 있는 데이터)"
      ]
    },
    {
      "cell_type": "code",
      "metadata": {
        "id": "b5_ok90vo7eE",
        "colab_type": "code",
        "colab": {}
      },
      "source": [
        "import pandas as pd\n",
        "df = pd.read_csv('ta_20200901073712_header.csv', encoding = 'cp949') \n",
        "df \n",
        "# 판다스에서 사용되는 표 형태의 데이터 형식을 data frame이라고 부릅니다."
      ],
      "execution_count": null,
      "outputs": []
    },
    {
      "cell_type": "markdown",
      "metadata": {
        "id": "QPla0q8Ko7eW",
        "colab_type": "text"
      },
      "source": [
        "보통은 head 메서드를 사용해서 가장 위 5개 데이터만 살펴봅니다."
      ]
    },
    {
      "cell_type": "code",
      "metadata": {
        "id": "SOf15vuto7eW",
        "colab_type": "code",
        "colab": {}
      },
      "source": [
        "df.head()"
      ],
      "execution_count": null,
      "outputs": []
    },
    {
      "cell_type": "markdown",
      "metadata": {
        "id": "rsb9ifHpo7eZ",
        "colab_type": "text"
      },
      "source": [
        "숫자로 이루어진 데이터의 특성을 쭈욱 살펴봅니다."
      ]
    },
    {
      "cell_type": "code",
      "metadata": {
        "id": "MqELEq0mo7ea",
        "colab_type": "code",
        "colab": {}
      },
      "source": [
        "df.describe()"
      ],
      "execution_count": null,
      "outputs": []
    },
    {
      "cell_type": "markdown",
      "metadata": {
        "id": "aUx59l5eo7ec",
        "colab_type": "text"
      },
      "source": [
        "전체 데이터에 비해 평균, 최저, 최고 데이터가 숫자가 다른 것을 볼 수 있습니다.   \n",
        "비어있는 데이터는 간단히 전처리해줍니다. "
      ]
    },
    {
      "cell_type": "code",
      "metadata": {
        "id": "v0KQauYPo7ec",
        "colab_type": "code",
        "colab": {}
      },
      "source": [
        "df = df.fillna(0)"
      ],
      "execution_count": 31,
      "outputs": []
    },
    {
      "cell_type": "markdown",
      "metadata": {
        "id": "DzyWcxyzo7ef",
        "colab_type": "text"
      },
      "source": [
        "다시 보면 이제 같아진 것을 확인할 수 있습니다."
      ]
    },
    {
      "cell_type": "code",
      "metadata": {
        "scrolled": true,
        "id": "90RJFBGuo7eg",
        "colab_type": "code",
        "colab": {}
      },
      "source": [
        "df.describe()"
      ],
      "execution_count": null,
      "outputs": []
    },
    {
      "cell_type": "markdown",
      "metadata": {
        "id": "_kFpO0s3o7ei",
        "colab_type": "text"
      },
      "source": [
        "판다스에서 원하는 컬럼을 선택하는 방식은 딕셔너리 사용법과 유사합니다."
      ]
    },
    {
      "cell_type": "code",
      "metadata": {
        "id": "4poLR_iMo7ei",
        "colab_type": "code",
        "colab": {}
      },
      "source": [
        "df['최고']"
      ],
      "execution_count": null,
      "outputs": []
    },
    {
      "cell_type": "markdown",
      "metadata": {
        "id": "BBUkwESco7ek",
        "colab_type": "text"
      },
      "source": [
        "판다스는 이렇게 한 번의 명령으로 전체 데이터에 같은 명령을 적용하는 장점이 있습니다.  \n",
        "아래처럼 이렇게 조건을 적용하면 참과 거짓인 데이터가 구분이 됩니다."
      ]
    },
    {
      "cell_type": "code",
      "metadata": {
        "id": "TESUhldBo7el",
        "colab_type": "code",
        "colab": {}
      },
      "source": [
        "df['최고'] > 30"
      ],
      "execution_count": null,
      "outputs": []
    },
    {
      "cell_type": "markdown",
      "metadata": {
        "id": "0ouwhJ-5o7eo",
        "colab_type": "text"
      },
      "source": [
        "이런 것을 mask라고 하는데, 마스크를 적용하면 전체 데이터 프레임 중 참인 것들만 따로 모을 수 있습니다."
      ]
    },
    {
      "cell_type": "code",
      "metadata": {
        "id": "-weLw3PVo7ep",
        "colab_type": "code",
        "colab": {}
      },
      "source": [
        "df[df['최고'] > 30]"
      ],
      "execution_count": null,
      "outputs": []
    },
    {
      "cell_type": "markdown",
      "metadata": {
        "id": "ggRhIEDio7er",
        "colab_type": "text"
      },
      "source": [
        "그리고 이 결과도 데이터 프레임 형식이기 때문에 여기에서 다시 컬럼 이름을 뽑아낼 수 있겠죠?"
      ]
    },
    {
      "cell_type": "code",
      "metadata": {
        "id": "9Wza2p_oo7er",
        "colab_type": "code",
        "colab": {}
      },
      "source": [
        "df[df['최고'] > 30]['날짜']"
      ],
      "execution_count": null,
      "outputs": []
    },
    {
      "cell_type": "markdown",
      "metadata": {
        "id": "aChRF0kSo7ey",
        "colab_type": "text"
      },
      "source": [
        "또한 판다스에서는 다양한 날짜 선택 기능을 제공하는데, 이렇게 간단히 연도만 뽑아낼 수 있습니다."
      ]
    },
    {
      "cell_type": "code",
      "metadata": {
        "id": "-bcasCk0o7ez",
        "colab_type": "code",
        "colab": {}
      },
      "source": [
        "pd.DatetimeIndex(df['날짜']).year"
      ],
      "execution_count": null,
      "outputs": []
    },
    {
      "cell_type": "markdown",
      "metadata": {
        "id": "7HExIICJo7e2",
        "colab_type": "text"
      },
      "source": [
        "그리고 딕셔너리와 마찬가지로 새로운 컬럼을 만들고 싶을 땐 이렇게 만들 수 있습니다.  \n",
        "아래는 연도만 뽑아서 별도의 year라는 컬럼을 만드는 명령입니다."
      ]
    },
    {
      "cell_type": "code",
      "metadata": {
        "id": "F3udyfizo7e2",
        "colab_type": "code",
        "colab": {}
      },
      "source": [
        "df['year'] = pd.DatetimeIndex(df['날짜']).year"
      ],
      "execution_count": 50,
      "outputs": []
    },
    {
      "cell_type": "markdown",
      "metadata": {
        "id": "DyqE2VGEo7e4",
        "colab_type": "text"
      },
      "source": [
        "head 메서드를 확인해보니 새로운 year라는 컬럼이 생긴 것을 볼 수 있습니다."
      ]
    },
    {
      "cell_type": "code",
      "metadata": {
        "id": "rYWqZjjYo7e5",
        "colab_type": "code",
        "colab": {}
      },
      "source": [
        "df.head()"
      ],
      "execution_count": null,
      "outputs": []
    },
    {
      "cell_type": "markdown",
      "metadata": {
        "id": "8aLuRX1Io7e9",
        "colab_type": "text"
      },
      "source": [
        "그리고 아직 시작도 하지 않았습니다ㅎㅎ 판다스는 데이터 분석에 필요한 엄청난 기능들을 갖고 있습니다.  \n",
        "예를 들면, 이렇게 한 줄의 코드로 연도별 30도가 넘는 날의 숫자를 카운트해줍니다. 그것도 정렬해서 말이죠!"
      ]
    },
    {
      "cell_type": "code",
      "metadata": {
        "id": "3Ez2UIAwo7e-",
        "colab_type": "code",
        "colab": {}
      },
      "source": [
        "df[df['최고'] > 30]['year'].value_counts()"
      ],
      "execution_count": null,
      "outputs": []
    },
    {
      "cell_type": "markdown",
      "metadata": {
        "id": "HoDyIMLzo7fD",
        "colab_type": "text"
      },
      "source": [
        "하지만 우리는 시간 순서대로 결과를 확인하고 싶으니 이렇게 메서드를 하나 더 써서 연도별로 정렬을 다시 해보겠습니다."
      ]
    },
    {
      "cell_type": "code",
      "metadata": {
        "id": "0LHZ5CYIo7fG",
        "colab_type": "code",
        "colab": {}
      },
      "source": [
        "df[df['최고'] > 30]['year'].value_counts().sort_index()"
      ],
      "execution_count": null,
      "outputs": []
    },
    {
      "cell_type": "markdown",
      "metadata": {
        "id": "fAWh2Hneo7fJ",
        "colab_type": "text"
      },
      "source": [
        "그리고 이렇게 메서드를 하나 더 추가해주면, 짜잔하고 그래프까지 그려줍니다.  \n",
        "참고로 이 그래프는 matplotlib을 사용해서 그리는 것이라 matplotlib은 잘 알아두시면 좋습니다."
      ]
    },
    {
      "cell_type": "code",
      "metadata": {
        "id": "oGp4cTsPo7fK",
        "colab_type": "code",
        "colab": {}
      },
      "source": [
        "df[df['최고'] > 30]['year'].value_counts().sort_index().plot.bar()"
      ],
      "execution_count": null,
      "outputs": []
    },
    {
      "cell_type": "markdown",
      "metadata": {
        "id": "iPXUJJ1Go7fM",
        "colab_type": "text"
      },
      "source": [
        "그리고 데이터 조건도 이렇게 아주 간단하게 추가해주면 원하는 조건에 맞게 딱 그래프를 그려줄 수 있습니다.  \n",
        "눈치 채셨겠지만 and가 &, or는 | 입니다."
      ]
    },
    {
      "cell_type": "code",
      "metadata": {
        "id": "2PVH_-CFo7fN",
        "colab_type": "code",
        "colab": {}
      },
      "source": [
        "df[(df['최고'] > 30) & (df['year'] > 1980)]['year'].value_counts().sort_index().plot.bar()"
      ],
      "execution_count": null,
      "outputs": []
    },
    {
      "cell_type": "markdown",
      "metadata": {
        "id": "Ha0Vgx5oo7fQ",
        "colab_type": "text"
      },
      "source": [
        "### 5줄로 데이터 분석하기!  "
      ]
    },
    {
      "cell_type": "code",
      "metadata": {
        "id": "cFHGa9dko7fQ",
        "colab_type": "code",
        "colab": {}
      },
      "source": [
        "import pandas as pd # 판다스 라이브러리 불러오기\n",
        "df = pd.read_csv('ta_20200901073712_header.csv', encoding = 'cp949')  # 서울의 기온데이터 입력하기\n",
        "df = df.fillna(0) # 누락된 값 0으로 채우기\n",
        "df['year'] = pd.DatetimeIndex(df['날짜']).year # year 칼럼 추가하기\n",
        "df[(df['최고'] > 30) & (df['year'] > 1980)]['year'].value_counts().sort_index().plot.bar() \n",
        "# 81년부터 연도별 최고 기온이 30도 넘는 날의 일수 막대그래프로 출력하기"
      ],
      "execution_count": null,
      "outputs": []
    },
    {
      "cell_type": "code",
      "metadata": {
        "id": "24WGTDr8xaDI",
        "colab_type": "code",
        "colab": {}
      },
      "source": [
        ""
      ],
      "execution_count": null,
      "outputs": []
    }
  ]
}