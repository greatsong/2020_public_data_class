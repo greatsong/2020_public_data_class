{
 "cells": [
  {
   "cell_type": "markdown",
   "metadata": {},
   "source": [
    "## 0. 기본적으로 알아야할 몇 가지 내용"
   ]
  },
  {
   "cell_type": "code",
   "execution_count": null,
   "metadata": {},
   "outputs": [],
   "source": [
    "#1. 데이터 타입 확인하기\n",
    "print(type('1'))\n",
    "print(type('3.14'))\n",
    "print(type(1))\n",
    "print(type(3.14))"
   ]
  },
  {
   "cell_type": "code",
   "execution_count": null,
   "metadata": {},
   "outputs": [],
   "source": [
    "#2. 코드 줄 바꾸기\n",
    "print('hello \\\n",
    "world')"
   ]
  },
  {
   "cell_type": "code",
   "execution_count": null,
   "metadata": {},
   "outputs": [],
   "source": [
    "#3. 같은 값으로 채워진 리스트 N개 만들기\n",
    "a = [0] * 5\n",
    "print(a)"
   ]
  },
  {
   "cell_type": "code",
   "execution_count": null,
   "metadata": {},
   "outputs": [],
   "source": [
    "#4. xticks 함수 : x축에 내용 넣기\n",
    "import matplotlib.pyplot as plt\n",
    "plt.bar(range(10), [0,1,2,3,4,5,6,7,8,9])\n",
    "plt.xticks(range(10),range(10))\n",
    "plt.show()"
   ]
  },
  {
   "cell_type": "code",
   "execution_count": null,
   "metadata": {},
   "outputs": [],
   "source": [
    "#0. 전처리 : 생략\n",
    "#1. 데이터 불러오기 : csv 활용 -> 외울 필요 X\n",
    "#2. 필요한 데이터 선택하기 : 중간고사 문법 + @\n",
    "#3. 필요한 데이터 저장하기 : 리스트 + (딕셔너리)\n",
    "#4. 데이터 처리 : 중간고사 문법\n",
    "#5. 데이터 시각화 : 다양한 그래프 중 적합한 그래프 선택 - 꺾은선, 히스토그램, 박스플랏, (수평)막대 + (파이, 산점도, 버블)\n",
    "                    # 여기에 나오는 그래프 함수 이름과 사용 방법(필수 옵션)은 외워야 함!"
   ]
  },
  {
   "cell_type": "markdown",
   "metadata": {},
   "source": [
    "## 1. 기온데이터"
   ]
  },
  {
   "cell_type": "code",
   "execution_count": null,
   "metadata": {},
   "outputs": [],
   "source": [
    "#1. 데이터 불러오기"
   ]
  },
  {
   "cell_type": "code",
   "execution_count": null,
   "metadata": {},
   "outputs": [],
   "source": [
    "import csv\n",
    "\n",
    "f = open('seoul_temp.csv')\n",
    "data = csv.reader(f)\n",
    "\n",
    "for row in data :\n",
    "    print(row)\n",
    "    break"
   ]
  },
  {
   "cell_type": "code",
   "execution_count": null,
   "metadata": {},
   "outputs": [],
   "source": [
    "#2. 필요한 데이터 선택하기"
   ]
  },
  {
   "cell_type": "code",
   "execution_count": null,
   "metadata": {},
   "outputs": [],
   "source": [
    "import csv\n",
    "f = open('seoul_temp.csv')\n",
    "data = csv.reader(f)\n",
    "next(data)\n",
    "\n",
    "for row in data :\n",
    "    print(row[-1])\n",
    "    break"
   ]
  },
  {
   "cell_type": "code",
   "execution_count": null,
   "metadata": {},
   "outputs": [],
   "source": [
    "import csv\n",
    "f = open('seoul_temp.csv')\n",
    "data = csv.reader(f)\n",
    "next(data)\n",
    "\n",
    "for row in data :\n",
    "    row[-1] = float(row[-1])\n",
    "    print(row[-1])\n",
    "    break"
   ]
  },
  {
   "cell_type": "code",
   "execution_count": null,
   "metadata": {},
   "outputs": [],
   "source": [
    "#3. 필요한 데이터 저장하기"
   ]
  },
  {
   "cell_type": "code",
   "execution_count": null,
   "metadata": {},
   "outputs": [],
   "source": [
    "import csv\n",
    "\n",
    "f = open('seoul_temp.csv')\n",
    "data = csv.reader(f)\n",
    "next(data)\n",
    "result = []\n",
    "\n",
    "for row in data :\n",
    "    result.append(float(row[-1]))\n",
    "    print(result)\n",
    "    break"
   ]
  },
  {
   "cell_type": "code",
   "execution_count": null,
   "metadata": {},
   "outputs": [],
   "source": [
    "#4. 데이터 처리 : 비어있는 데이터 스킵"
   ]
  },
  {
   "cell_type": "code",
   "execution_count": null,
   "metadata": {},
   "outputs": [],
   "source": [
    "import csv\n",
    "\n",
    "f = open('seoul_temp.csv')\n",
    "data = csv.reader(f)\n",
    "next(data)\n",
    "result = []\n",
    "\n",
    "for row in data :\n",
    "    if row[-1] != '' : \n",
    "        result.append(float(row[-1]))\n",
    "print(result)"
   ]
  },
  {
   "cell_type": "code",
   "execution_count": null,
   "metadata": {},
   "outputs": [],
   "source": [
    "#5. 데이터 시각화하기"
   ]
  },
  {
   "cell_type": "code",
   "execution_count": null,
   "metadata": {},
   "outputs": [],
   "source": [
    "import csv\n",
    "f = open('seoul_temp.csv')\n",
    "data = csv.reader(f)\n",
    "next(data)\n",
    "result = []\n",
    "\n",
    "for row in data :\n",
    "    if row[-1] != '' :\n",
    "        result.append(float(row[-1]))\n",
    "\n",
    "import matplotlib.pyplot as plt\n",
    "plt.figure(dpi = 300)\n",
    "plt.plot(result,'r') # plot : 꺾은선 그래프!\n",
    "plt.show()"
   ]
  },
  {
   "cell_type": "code",
   "execution_count": null,
   "metadata": {},
   "outputs": [],
   "source": [
    "#2. 필요한 데이터 선택하기 : split 함수 + if 조건문 사용"
   ]
  },
  {
   "cell_type": "code",
   "execution_count": null,
   "metadata": {},
   "outputs": [],
   "source": [
    "s = 'hello python'\n",
    "print(s)"
   ]
  },
  {
   "cell_type": "code",
   "execution_count": null,
   "metadata": {},
   "outputs": [],
   "source": [
    "s = 'hello python'\n",
    "print(s.split())"
   ]
  },
  {
   "cell_type": "code",
   "execution_count": null,
   "metadata": {},
   "outputs": [],
   "source": [
    "print(s.split()[1])"
   ]
  },
  {
   "cell_type": "code",
   "execution_count": null,
   "metadata": {},
   "outputs": [],
   "source": [
    "date = '1907-10-01'\n",
    "print(date.split('-'))"
   ]
  },
  {
   "cell_type": "code",
   "execution_count": null,
   "metadata": {},
   "outputs": [],
   "source": [
    "print(date.split('-')[0])\n",
    "print(date.split('-')[1])\n",
    "print(date.split('-')[2])"
   ]
  },
  {
   "cell_type": "code",
   "execution_count": null,
   "metadata": {},
   "outputs": [],
   "source": [
    "import csv\n",
    "f = open('seoul_temp.csv')\n",
    "data = csv.reader(f)\n",
    "next(data)\n",
    "result = []\n",
    "\n",
    "for row in data :\n",
    "    if row[-1] != '' :\n",
    "        if row[0].split('-')[1] == '08' :\n",
    "            result.append(float(row[-1]))\n",
    "\n",
    "import matplotlib.pyplot as plt\n",
    "plt.figure(dpi = 300)\n",
    "plt.plot(result, 'hotpink')\n",
    "plt.show()"
   ]
  },
  {
   "cell_type": "code",
   "execution_count": null,
   "metadata": {},
   "outputs": [],
   "source": [
    "import csv\n",
    "f = open('seoul_temp.csv')\n",
    "data = csv.reader(f)\n",
    "next(data)\n",
    "result = []\n",
    "\n",
    "for row in data :\n",
    "    if row[-1] != '' :\n",
    "        if row[0].split('-')[1] == '02' and row[0].split('-')[2] == '14' :\n",
    "            result.append(float(row[-1]))\n",
    "\n",
    "import matplotlib.pyplot as plt\n",
    "plt.figure(dpi = 300)\n",
    "plt.plot(result, 'hotpink')\n",
    "plt.show()"
   ]
  },
  {
   "cell_type": "code",
   "execution_count": null,
   "metadata": {},
   "outputs": [],
   "source": [
    "import csv\n",
    "f = open('seoul_temp.csv')\n",
    "data = csv.reader(f)\n",
    "next(data)\n",
    "high = []\n",
    "low = []\n",
    "\n",
    "for row in data :\n",
    "    if row[-1] != '' and row[-2] != '' :\n",
    "        if row[0].split('-')[1] == '02' and row[0].split('-')[2] == '14' :\n",
    "            high.append(float(row[-1]))\n",
    "            low.append(float(row[-2]))\n",
    "\n",
    "import matplotlib.pyplot as plt\n",
    "plt.figure(dpi = 300)\n",
    "plt.plot(high, 'hotpink')\n",
    "plt.plot(low, 'skyblue')\n",
    "plt.show()"
   ]
  },
  {
   "cell_type": "code",
   "execution_count": null,
   "metadata": {},
   "outputs": [],
   "source": [
    "import csv\n",
    "f = open('seoul_temp.csv')\n",
    "data = csv.reader(f)\n",
    "next(data)\n",
    "high = []\n",
    "low = []\n",
    "\n",
    "for row in data :\n",
    "    if row[-1] != '' and row[-2] != '' :\n",
    "        if 2000 <= int(row[0].split('-')[0]) :\n",
    "            if row[0].split('-')[1] == '02' and row[0].split('-')[2] == '14' :\n",
    "                high.append(float(row[-1]))\n",
    "                low.append(float(row[-2]))\n",
    "\n",
    "import matplotlib.pyplot as plt\n",
    "plt.figure(dpi = 300)\n",
    "plt.plot(high, 'hotpink')\n",
    "plt.plot(low, 'skyblue')\n",
    "plt.show()"
   ]
  },
  {
   "cell_type": "code",
   "execution_count": null,
   "metadata": {},
   "outputs": [],
   "source": [
    "#5. 데이터 시각화하기 : 히스토그램(bins 속성)"
   ]
  },
  {
   "cell_type": "code",
   "execution_count": null,
   "metadata": {},
   "outputs": [],
   "source": [
    "import matplotlib.pyplot as plt\n",
    "plt.hist([1,1,1,2,2,2,2,2,2,2,2,2,3,3,3,3,3,4,4,5,5,5,5], bins = 5)\n",
    "plt.show()"
   ]
  },
  {
   "cell_type": "code",
   "execution_count": null,
   "metadata": {},
   "outputs": [],
   "source": [
    "import random\n",
    "print(random.randint(1,6))"
   ]
  },
  {
   "cell_type": "code",
   "execution_count": null,
   "metadata": {},
   "outputs": [],
   "source": [
    "import random\n",
    "for i in range(5) :\n",
    "    print(random.randint(1,6))"
   ]
  },
  {
   "cell_type": "code",
   "execution_count": null,
   "metadata": {},
   "outputs": [],
   "source": [
    "import random\n",
    "dice = []\n",
    "for i in range(5) :\n",
    "    dice.append(random.randint(1,6))\n",
    "print(dice)"
   ]
  },
  {
   "cell_type": "code",
   "execution_count": null,
   "metadata": {},
   "outputs": [],
   "source": [
    "import random\n",
    "dice = []\n",
    "for i in range(5) :\n",
    "    dice.append(random.randint(1,6))\n",
    "print(dice)\n",
    "\n",
    "import matplotlib.pyplot as plt\n",
    "plt.figure(dpi = 300)\n",
    "plt.hist(dice, bins = 6)\n",
    "plt.show()"
   ]
  },
  {
   "cell_type": "code",
   "execution_count": null,
   "metadata": {},
   "outputs": [],
   "source": [
    "import random\n",
    "dice = []\n",
    "for i in range(100) :\n",
    "    dice.append(random.randint(1,6))\n",
    "print(dice)\n",
    "\n",
    "import matplotlib.pyplot as plt\n",
    "plt.figure(dpi = 300)\n",
    "plt.hist(dice, bins = 6)\n",
    "plt.show()"
   ]
  },
  {
   "cell_type": "code",
   "execution_count": null,
   "metadata": {},
   "outputs": [],
   "source": [
    "import random\n",
    "dice = []\n",
    "for i in range(100) :\n",
    "    dice.append(random.randint(1,6))\n",
    "print(dice)\n",
    "\n",
    "import matplotlib.pyplot as plt\n",
    "plt.figure(dpi = 300)\n",
    "plt.hist(dice, bins = 6)\n",
    "plt.show()"
   ]
  },
  {
   "cell_type": "code",
   "execution_count": null,
   "metadata": {},
   "outputs": [],
   "source": [
    "import random\n",
    "dice = []\n",
    "for i in range(1000000) :\n",
    "    dice.append(random.randint(1,6))\n",
    "\n",
    "import matplotlib.pyplot as plt\n",
    "plt.figure(dpi = 300)\n",
    "plt.hist(dice, bins = 6)\n",
    "plt.show()"
   ]
  },
  {
   "cell_type": "code",
   "execution_count": null,
   "metadata": {},
   "outputs": [],
   "source": [
    "import csv\n",
    "f = open('seoul_temp.csv')\n",
    "data = csv.reader(f)\n",
    "next(data)\n",
    "result = []\n",
    "\n",
    "for row in data :\n",
    "    if row[-1] != '' :\n",
    "        result.append(float(row[-1]))\n",
    "\n",
    "import matplotlib.pyplot as plt\n",
    "plt.hist(result, bins = 100, color = 'r')\n",
    "plt.show()"
   ]
  },
  {
   "cell_type": "code",
   "execution_count": null,
   "metadata": {},
   "outputs": [],
   "source": [
    "plt.figure(dpi = 300)\n",
    "plt.hist(result, bins = 1000, color = 'r')\n",
    "plt.show()"
   ]
  },
  {
   "cell_type": "code",
   "execution_count": null,
   "metadata": {},
   "outputs": [],
   "source": [
    "import csv\n",
    "f = open('seoul_temp.csv')\n",
    "data = csv.reader(f)\n",
    "next(data)\n",
    "aug = []\n",
    "\n",
    "for row in data :\n",
    "    month = row[0].split('-')[1]\n",
    "    if row[-1] != '' :\n",
    "        if month == '08':\n",
    "            aug.append(float(row[-1]))\n",
    "\n",
    "import matplotlib.pyplot as plt\n",
    "plt.figure(dpi = 300)\n",
    "plt.hist(aug, bins = 100, color = 'r')\n",
    "plt.show()"
   ]
  },
  {
   "cell_type": "code",
   "execution_count": null,
   "metadata": {},
   "outputs": [],
   "source": [
    "import csv\n",
    "f = open('seoul_temp.csv')\n",
    "data = csv.reader(f)\n",
    "next(data)\n",
    "aug = []\n",
    "jan = []\n",
    "\n",
    "for row in data :\n",
    "    month = row[0].split('-')[1]\n",
    "    if row[-1] != '' :\n",
    "        if month == '08':\n",
    "            aug.append(float(row[-1]))\n",
    "        if month == '01':\n",
    "            jan.append(float(row[-1]))\n",
    "\n",
    "import matplotlib.pyplot as plt\n",
    "plt.figure(dpi = 300)\n",
    "plt.hist(aug, bins = 100, color = 'r', label = 'Aug')\n",
    "plt.hist(jan, bins = 100, color = 'b', label = 'Jan')\n",
    "plt.legend()\n",
    "plt.show()"
   ]
  },
  {
   "cell_type": "code",
   "execution_count": null,
   "metadata": {},
   "outputs": [],
   "source": [
    "import csv\n",
    "f = open('seoul_temp.csv')\n",
    "data = csv.reader(f)\n",
    "next(data)\n",
    "aug = []\n",
    "jul = []\n",
    "\n",
    "for row in data :\n",
    "    month = row[0].split('-')[1]\n",
    "    if row[-1] != '' :\n",
    "        if month == '08':\n",
    "            aug.append(float(row[-1]))\n",
    "        if month == '07':\n",
    "            jul.append(float(row[-1]))\n",
    "\n",
    "import matplotlib.pyplot as plt\n",
    "plt.figure(dpi = 300)\n",
    "plt.hist(aug, bins = 100, color = 'r', label = 'Aug', alpha = 0.3)\n",
    "plt.hist(jul, bins = 100, color = 'magenta', label = 'Jul', alpha = 0.3)\n",
    "plt.legend()\n",
    "plt.show()"
   ]
  },
  {
   "cell_type": "code",
   "execution_count": null,
   "metadata": {},
   "outputs": [],
   "source": [
    "#5. 데이터 시각화하기 : 박스플랏(5가지 통계적 특성 : 최댓값,1사분위,중앙값,3사분위,최솟값)"
   ]
  },
  {
   "cell_type": "code",
   "execution_count": null,
   "metadata": {},
   "outputs": [],
   "source": [
    "import random\n",
    "result = []\n",
    "for i in range(13) :\n",
    "    result.append(random.randint(1,1000))\n",
    "print(sorted(result))\n",
    "# 넘파이는 나중에 배우게 되겠지만, 유용하니 참고만 하세요!\n",
    "import numpy as np\n",
    "result = np.array(result)\n",
    "print(\"1/4: \" + str(np.percentile(result,25)))\n",
    "print(\"2/4: \" + str(np.percentile(result,50)))\n",
    "print(\"3/4: \" + str(np.percentile(result,75)))\n",
    "\n",
    "import matplotlib.pyplot as plt\n",
    "plt.boxplot(result)\n",
    "plt.show()"
   ]
  },
  {
   "cell_type": "code",
   "execution_count": null,
   "metadata": {},
   "outputs": [],
   "source": [
    "import csv\n",
    "f = open('seoul_temp.csv')\n",
    "data = csv.reader(f)\n",
    "next(data)\n",
    "result = []\n",
    "\n",
    "for row in data :\n",
    "    if row[-1] != '' :\n",
    "        result.append(float(row[-1]))\n",
    "\n",
    "import matplotlib.pyplot as plt\n",
    "plt.boxplot(result)\n",
    "plt.show()"
   ]
  },
  {
   "cell_type": "code",
   "execution_count": null,
   "metadata": {},
   "outputs": [],
   "source": [
    "import csv\n",
    "f = open('seoul_temp.csv')\n",
    "data = csv.reader(f)\n",
    "next(data)\n",
    "aug = []\n",
    "jan = []\n",
    "\n",
    "for row in data :\n",
    "    month = row[0].split('-')[1]\n",
    "    if row[-1] != '' :\n",
    "        if month == '08':\n",
    "            aug.append(float(row[-1]))\n",
    "        if month == '01':\n",
    "            jan.append(float(row[-1]))\n",
    "\n",
    "import matplotlib.pyplot as plt\n",
    "plt.boxplot(aug)\n",
    "plt.boxplot(jan)\n",
    "plt.show()"
   ]
  },
  {
   "cell_type": "code",
   "execution_count": null,
   "metadata": {},
   "outputs": [],
   "source": [
    "import csv\n",
    "f = open('seoul_temp.csv')\n",
    "data = csv.reader(f)\n",
    "next(data)\n",
    "aug = []\n",
    "jan = []\n",
    "\n",
    "for row in data :\n",
    "    month = row[0].split('-')[1]\n",
    "    if row[-1] != '' :\n",
    "        if month == '08':\n",
    "            aug.append(float(row[-1]))\n",
    "        if month == '01':\n",
    "            jan.append(float(row[-1]))\n",
    "\n",
    "import matplotlib.pyplot as plt\n",
    "plt.boxplot([aug,jan])\n",
    "plt.show()"
   ]
  },
  {
   "cell_type": "code",
   "execution_count": null,
   "metadata": {},
   "outputs": [],
   "source": [
    "import csv\n",
    "f = open('seoul_temp.csv')\n",
    "data = csv.reader(f)\n",
    "next(data)\n",
    "aug = []\n",
    "jan = []\n",
    "\n",
    "for row in data :\n",
    "    month = row[0].split('-')[1]\n",
    "    if row[-1] != '' :\n",
    "        if month == '08':\n",
    "            aug.append(float(row[-1]))\n",
    "        if month == '01':\n",
    "            jan.append(float(row[-1]))\n",
    "\n",
    "import matplotlib.pyplot as plt\n",
    "plt.figure(dpi = 300)\n",
    "plt.style.use('ggplot')\n",
    "plt.boxplot([aug,jan], showfliers=False) # 아웃라이어 값 제거\n",
    "plt.xticks((1,2), ['Aug','Jan'])\n",
    "plt.show()"
   ]
  },
  {
   "cell_type": "code",
   "execution_count": null,
   "metadata": {},
   "outputs": [],
   "source": [
    "import matplotlib.pyplot as plt\n",
    "import csv\n",
    "f = open('seoul_temp.csv')\n",
    "data = csv.reader(f)\n",
    "next(data)\n",
    "month = [[],[],[],[],[],[],[],[],[],[],[],[]]\n",
    "\n",
    "for row in data :\n",
    "    if row[-1] != '' :\n",
    "        month[int(row[0].split('-')[1])-1].append(float(row[-1]))\n",
    "        \n",
    "plt.figure(figsize=(10,5), dpi=300)\n",
    "plt.boxplot(month, showfliers=False)\n",
    "\n",
    "plt.show()"
   ]
  },
  {
   "cell_type": "markdown",
   "metadata": {},
   "source": [
    "## 2. 인구데이터(성별 구분 X)"
   ]
  },
  {
   "cell_type": "code",
   "execution_count": null,
   "metadata": {},
   "outputs": [],
   "source": [
    "#2. 필요한 데이터 선택하기 : in 연산자 사용"
   ]
  },
  {
   "cell_type": "code",
   "execution_count": null,
   "metadata": {},
   "outputs": [],
   "source": [
    "print('신도림' in '서울특별시 구로구 신도림동(1153051000)')\n",
    "print('1153' in '서울특별시 구로구 신도림동(1153051000)')\n",
    "print('()' in '서울특별시 구로구 신도림동(1153051000)')"
   ]
  },
  {
   "cell_type": "code",
   "execution_count": null,
   "metadata": {},
   "outputs": [],
   "source": [
    "import csv\n",
    "f = open('age.csv')\n",
    "data = csv.reader(f)\n",
    "\n",
    "for row in data :\n",
    "    if '신도림' in row[0] :\n",
    "        print(row)"
   ]
  },
  {
   "cell_type": "code",
   "execution_count": null,
   "metadata": {},
   "outputs": [],
   "source": [
    "import csv\n",
    "f = open('age.csv')\n",
    "data = csv.reader(f)\n",
    "\n",
    "for row in data :\n",
    "    if '제주' in row[0] :\n",
    "        print(row)"
   ]
  },
  {
   "cell_type": "code",
   "execution_count": null,
   "metadata": {},
   "outputs": [],
   "source": [
    "import csv\n",
    "f = open('age.csv')\n",
    "data = csv.reader(f)\n",
    "\n",
    "for row in data :\n",
    "    if '제주' in row[0] :\n",
    "        print(row)\n",
    "        break"
   ]
  },
  {
   "cell_type": "code",
   "execution_count": null,
   "metadata": {},
   "outputs": [],
   "source": [
    "import csv\n",
    "f = open('age.csv')\n",
    "data = csv.reader(f)\n",
    "\n",
    "for row in data :\n",
    "    if '신도림' in row[0] :\n",
    "        print(len(row[3:]))"
   ]
  },
  {
   "cell_type": "code",
   "execution_count": null,
   "metadata": {},
   "outputs": [],
   "source": [
    "import csv\n",
    "f = open('age.csv')\n",
    "data = csv.reader(f)\n",
    "result = []\n",
    "for row in data :\n",
    "    if '신도림' in row[0] :\n",
    "        for i in row[3:] :\n",
    "            result.append(i)\n",
    "print(result)"
   ]
  },
  {
   "cell_type": "code",
   "execution_count": null,
   "metadata": {},
   "outputs": [],
   "source": [
    "import csv\n",
    "f = open('age.csv')\n",
    "data = csv.reader(f)\n",
    "result = []\n",
    "for row in data :\n",
    "    if '신도림' in row[0] :\n",
    "        for i in row[3:] :\n",
    "            result.append(int(i))\n",
    "print(result)"
   ]
  },
  {
   "cell_type": "code",
   "execution_count": null,
   "metadata": {},
   "outputs": [],
   "source": [
    "import csv\n",
    "f = open('age.csv')\n",
    "data = csv.reader(f)\n",
    "result = []\n",
    "for row in data :\n",
    "    if '신도림동' in row[0] :\n",
    "        for i in row[3:] :\n",
    "            result.append(int(i))\n",
    "            \n",
    "import matplotlib.pyplot as plt\n",
    "plt.plot(result)\n",
    "plt.show()"
   ]
  },
  {
   "cell_type": "code",
   "execution_count": null,
   "metadata": {},
   "outputs": [],
   "source": [
    "#5. 데이터 시각화하기 : 막대그래프(바플랏) - x축, y축 데이터 모두 명시해야 함!"
   ]
  },
  {
   "cell_type": "code",
   "execution_count": null,
   "metadata": {},
   "outputs": [],
   "source": [
    "import matplotlib.pyplot as plt\n",
    "plt.bar([1,2,3,5,6,7])\n",
    "plt.show()"
   ]
  },
  {
   "cell_type": "code",
   "execution_count": null,
   "metadata": {},
   "outputs": [],
   "source": [
    "import matplotlib.pyplot as plt\n",
    "plt.figure(figsize = (10,5), dpi=300)            \n",
    "plt.bar([0,1,2,4,6,10], [1,2,3,5,6,7])\n",
    "plt.show()"
   ]
  },
  {
   "cell_type": "code",
   "execution_count": null,
   "metadata": {},
   "outputs": [],
   "source": [
    "import matplotlib.pyplot as plt\n",
    "plt.figure(figsize = (10,5), dpi=300)            \n",
    "plt.bar(range(6), [1,2,3,5,6,7])\n",
    "plt.show()"
   ]
  },
  {
   "cell_type": "code",
   "execution_count": null,
   "metadata": {},
   "outputs": [],
   "source": [
    "import csv\n",
    "f = open('age.csv')\n",
    "data = csv.reader(f)\n",
    "\n",
    "result = []\n",
    "for row in data :\n",
    "    if '신도림' in row[0] :\n",
    "        for i in row[3:] :\n",
    "            result.append(int(i))\n",
    "            \n",
    "import matplotlib.pyplot as plt\n",
    "plt.figure(figsize = (10,5), dpi=300)            \n",
    "plt.bar(range(101), result)\n",
    "plt.show()"
   ]
  },
  {
   "cell_type": "markdown",
   "metadata": {},
   "source": [
    "## 3. 인구데이터(성별 구분 O)"
   ]
  },
  {
   "cell_type": "code",
   "execution_count": null,
   "metadata": {},
   "outputs": [],
   "source": [
    "import csv\n",
    "f = open('age_gender.csv')\n",
    "data = csv.reader(f)\n",
    "\n",
    "m = []\n",
    "f = []\n",
    "for row in data :\n",
    "    if '신도림' in row[0] :\n",
    "        for i in row[3:104] :\n",
    "            m.append(int(i))\n",
    "        for i in row[106:] :\n",
    "            f.append(int(i))\n",
    "            \n",
    "print(len(m))\n",
    "print(len(f))"
   ]
  },
  {
   "cell_type": "code",
   "execution_count": null,
   "metadata": {},
   "outputs": [],
   "source": [
    "#5. 데이터 시각화하기 : 수평막대그래프(barh) - x축, y축 데이터 모두 명시해야 함!"
   ]
  },
  {
   "cell_type": "code",
   "execution_count": null,
   "metadata": {},
   "outputs": [],
   "source": [
    "import matplotlib.pyplot as plt\n",
    "plt.style.use('ggplot')\n",
    "plt.figure(figsize = (10,5), dpi=300)            \n",
    "plt.barh(range(101), m)\n",
    "plt.barh(range(101), f)\n",
    "plt.show()"
   ]
  },
  {
   "cell_type": "code",
   "execution_count": null,
   "metadata": {},
   "outputs": [],
   "source": [
    "import csv\n",
    "f = open('age_gender.csv')\n",
    "data = csv.reader(f)\n",
    "\n",
    "m = []\n",
    "f = []\n",
    "for row in data :\n",
    "    if '신도림' in row[0] :\n",
    "        for i in row[3:104] :\n",
    "            m.append(-int(i))\n",
    "        for i in row[106:] :\n",
    "            f.append(int(i))\n",
    "            \n",
    "print(len(m))\n",
    "print(len(f))"
   ]
  },
  {
   "cell_type": "code",
   "execution_count": null,
   "metadata": {},
   "outputs": [],
   "source": [
    "import matplotlib.pyplot as plt\n",
    "plt.style.use('ggplot') # 참고만 하세요! 외울 필요 전혀 없습니다!!\n",
    "plt.figure(figsize = (10,5), dpi=300) # 참고만 하세요! 외울 필요 전혀 없습니다!!\n",
    "plt.rc('font', family = 'Malgun Gothic') # 참고만 하세요! 외울 필요 전혀 없습니다!!\n",
    "plt.rcParams['axes.unicode_minus'] = False # 참고만 하세요! 외울 필요 전혀 없습니다!!\n",
    "plt.title('신도림 지역의 남녀 성별 인구 분포')\n",
    "plt.barh(range(101), m, label = '남성')\n",
    "plt.barh(range(101), f, label = '여성')\n",
    "plt.legend() # 참고만 하세요! 외울 필요 전혀 없습니다!!\n",
    "plt.show()"
   ]
  },
  {
   "cell_type": "code",
   "execution_count": null,
   "metadata": {},
   "outputs": [],
   "source": []
  }
 ],
 "metadata": {
  "kernelspec": {
   "display_name": "Python 3",
   "language": "python",
   "name": "python3"
  },
  "language_info": {
   "codemirror_mode": {
    "name": "ipython",
    "version": 3
   },
   "file_extension": ".py",
   "mimetype": "text/x-python",
   "name": "python",
   "nbconvert_exporter": "python",
   "pygments_lexer": "ipython3",
   "version": "3.7.6"
  }
 },
 "nbformat": 4,
 "nbformat_minor": 4
}
